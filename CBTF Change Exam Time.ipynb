{
 "cells": [
  {
   "cell_type": "code",
   "execution_count": 91,
   "id": "48d8963c",
   "metadata": {},
   "outputs": [],
   "source": [
    "\n",
    "from selenium import webdriver\n",
    "import datetime\n",
    "import time\n",
    "from selenium.webdriver.common.by import By\n",
    "\n",
    "\n",
    "def login(browser): \n",
    "    browser.get(\"https://cbtf.engr.illinois.edu/\")\n",
    "    if browser.find_element_by_link_text(\"Reservation system login\"):\n",
    "        browser.find_element_by_link_text(\"Reservation system login\").click()\n",
    "    #logweb = browser.current_url\n",
    "    emailbox = browser.find_element_by_id(\"userNameInput\")\n",
    "    if emailbox:\n",
    "        emailbox.click() \n",
    "        emailbox.send_keys('yunfanh2@illinois.edu')\n",
    "        if browser.find_element_by_id(\"nextButton\"):\n",
    "            browser.find_element_by_id(\"nextButton\").click()\n",
    "            passwordbox = browser.find_element_by_id(\"passwordInput\")\n",
    "            if passwordbox:\n",
    "                passwordbox.click() \n",
    "                passwordbox.send_keys('Thatissosick1018!')\n",
    "                if browser.find_element_by_id(\"submitButton\"):\n",
    "                    browser.find_element_by_id(\"submitButton\").click()\n",
    "                    exam = input(\"格式如(CS 173: Examlet 9):\")\n",
    "                    order_time = input(\"格式如(2021-06-08 19:30:00.000000):\")\n",
    "                    if browser.find_elements_by_xpath(\"/html/body/div/div/div[1]/div[2]/table/tbody/tr[1]\")==exam:\n",
    "                        new_reserve(exam, time)\n",
    "                    #new_reserve(exam)\n",
    "                    changetime(exam, time)\n",
    "    else:\n",
    "        print(\"NOT FOUND\")\n",
    "        \n",
    "    time.sleep(10)\n",
    "    \n",
    "\n",
    "def new_reserve(exam, time):\n",
    "    if browser.find_element_by_link_text(\"make a reservation\"):\n",
    "        browser.find_element_by_link_text(\"make a reservation\").click()\n",
    "        return\n",
    "\n",
    "def changetime(exam, time):\n",
    "    reserved = browser.find_element(By.CLASS_NAME, \"reservation-future\")\n",
    "    if (reserved.find_element(exam)):\n",
    "        reserved.find_element_by_link_text(\"change\").click()\n",
    "    return\n",
    "    #browser.find_elements_by_xpath('//input[@name='username']')\n",
    "    \n",
    "    \n",
    "    \n",
    "    "
   ]
  },
  {
   "cell_type": "code",
   "execution_count": 92,
   "id": "b3af4942",
   "metadata": {},
   "outputs": [
    {
     "name": "stderr",
     "output_type": "stream",
     "text": [
      "<ipython-input-91-4f490fef5b6c>:9: DeprecationWarning: find_element_by_link_text is deprecated. Please use find_element(by=By.LINK_TEXT, value=link_text) instead\n",
      "  if browser.find_element_by_link_text(\"Reservation system login\"):\n",
      "<ipython-input-91-4f490fef5b6c>:10: DeprecationWarning: find_element_by_link_text is deprecated. Please use find_element(by=By.LINK_TEXT, value=link_text) instead\n",
      "  browser.find_element_by_link_text(\"Reservation system login\").click()\n",
      "<ipython-input-91-4f490fef5b6c>:12: DeprecationWarning: find_element_by_* commands are deprecated. Please use find_element() instead\n",
      "  emailbox = browser.find_element_by_id(\"userNameInput\")\n",
      "<ipython-input-91-4f490fef5b6c>:16: DeprecationWarning: find_element_by_* commands are deprecated. Please use find_element() instead\n",
      "  if browser.find_element_by_id(\"nextButton\"):\n",
      "<ipython-input-91-4f490fef5b6c>:17: DeprecationWarning: find_element_by_* commands are deprecated. Please use find_element() instead\n",
      "  browser.find_element_by_id(\"nextButton\").click()\n",
      "<ipython-input-91-4f490fef5b6c>:18: DeprecationWarning: find_element_by_* commands are deprecated. Please use find_element() instead\n",
      "  passwordbox = browser.find_element_by_id(\"passwordInput\")\n",
      "<ipython-input-91-4f490fef5b6c>:22: DeprecationWarning: find_element_by_* commands are deprecated. Please use find_element() instead\n",
      "  if browser.find_element_by_id(\"submitButton\"):\n",
      "<ipython-input-91-4f490fef5b6c>:23: DeprecationWarning: find_element_by_* commands are deprecated. Please use find_element() instead\n",
      "  browser.find_element_by_id(\"submitButton\").click()\n"
     ]
    },
    {
     "name": "stdout",
     "output_type": "stream",
     "text": [
      "格式如(CS 173: Examlet 9):CS 173: Examlet 8\n",
      "格式如(2021-06-08 19:30:00.000000):2\n"
     ]
    },
    {
     "name": "stderr",
     "output_type": "stream",
     "text": [
      "<ipython-input-91-4f490fef5b6c>:26: DeprecationWarning: find_elements_by_xpath is deprecated. Please use find_elements(by=By.XPATH, value=xpath) instead\n",
      "  if browser.find_elements_by_xpath(\"/html/body/div/div/div[1]/div[2]/table/tbody/tr[1]\")==exam:\n"
     ]
    },
    {
     "ename": "InvalidArgumentException",
     "evalue": "Message: invalid argument: invalid locator\n  (Session info: chrome=99.0.4844.83)\nStacktrace:\n0   chromedriver                        0x00000001048a3370 chromedriver + 4420464\n1   chromedriver                        0x000000010483a940 chromedriver + 3991872\n2   chromedriver                        0x000000010449a548 chromedriver + 189768\n3   chromedriver                        0x00000001044c8a1c chromedriver + 379420\n4   chromedriver                        0x00000001044bf3bc chromedriver + 340924\n5   chromedriver                        0x00000001044f1bfc chromedriver + 547836\n6   chromedriver                        0x00000001044be248 chromedriver + 336456\n7   chromedriver                        0x0000000104867548 chromedriver + 4175176\n8   chromedriver                        0x000000010487d95c chromedriver + 4266332\n9   chromedriver                        0x0000000104882660 chromedriver + 4286048\n10  chromedriver                        0x000000010487e124 chromedriver + 4268324\n11  chromedriver                        0x000000010485d53c chromedriver + 4134204\n12  chromedriver                        0x0000000104895eb0 chromedriver + 4366000\n13  chromedriver                        0x0000000104896014 chromedriver + 4366356\n14  chromedriver                        0x00000001048a9a6c chromedriver + 4446828\n15  libsystem_pthread.dylib             0x00000001c383d4ec _pthread_start + 148\n16  libsystem_pthread.dylib             0x00000001c38382d0 thread_start + 8\n",
     "output_type": "error",
     "traceback": [
      "\u001b[0;31m---------------------------------------------------------------------------\u001b[0m",
      "\u001b[0;31mInvalidArgumentException\u001b[0m                  Traceback (most recent call last)",
      "\u001b[0;32m<ipython-input-92-b823f0ab94b2>\u001b[0m in \u001b[0;36m<module>\u001b[0;34m\u001b[0m\n\u001b[1;32m      3\u001b[0m \u001b[0mbrowser\u001b[0m \u001b[0;34m=\u001b[0m \u001b[0mwebdriver\u001b[0m\u001b[0;34m.\u001b[0m\u001b[0mChrome\u001b[0m\u001b[0;34m(\u001b[0m\u001b[0;34m)\u001b[0m\u001b[0;34m\u001b[0m\u001b[0;34m\u001b[0m\u001b[0m\n\u001b[1;32m      4\u001b[0m \u001b[0;31m#b.get('https://www.prairielearn.org/pl')\u001b[0m\u001b[0;34m\u001b[0m\u001b[0;34m\u001b[0m\u001b[0;34m\u001b[0m\u001b[0m\n\u001b[0;32m----> 5\u001b[0;31m \u001b[0mlogin\u001b[0m\u001b[0;34m(\u001b[0m\u001b[0mbrowser\u001b[0m\u001b[0;34m)\u001b[0m\u001b[0;34m\u001b[0m\u001b[0;34m\u001b[0m\u001b[0m\n\u001b[0m\u001b[1;32m      6\u001b[0m \u001b[0;34m\u001b[0m\u001b[0m\n\u001b[1;32m      7\u001b[0m \u001b[0mtime\u001b[0m\u001b[0;34m.\u001b[0m\u001b[0msleep\u001b[0m\u001b[0;34m(\u001b[0m\u001b[0;36m5\u001b[0m\u001b[0;34m)\u001b[0m\u001b[0;34m\u001b[0m\u001b[0;34m\u001b[0m\u001b[0m\n",
      "\u001b[0;32m<ipython-input-91-4f490fef5b6c>\u001b[0m in \u001b[0;36mlogin\u001b[0;34m(browser)\u001b[0m\n\u001b[1;32m     27\u001b[0m                         \u001b[0mnew_reserve\u001b[0m\u001b[0;34m(\u001b[0m\u001b[0mexam\u001b[0m\u001b[0;34m,\u001b[0m \u001b[0mtime\u001b[0m\u001b[0;34m)\u001b[0m\u001b[0;34m\u001b[0m\u001b[0;34m\u001b[0m\u001b[0m\n\u001b[1;32m     28\u001b[0m                     \u001b[0;31m#new_reserve(exam)\u001b[0m\u001b[0;34m\u001b[0m\u001b[0;34m\u001b[0m\u001b[0;34m\u001b[0m\u001b[0m\n\u001b[0;32m---> 29\u001b[0;31m                     \u001b[0mchangetime\u001b[0m\u001b[0;34m(\u001b[0m\u001b[0mexam\u001b[0m\u001b[0;34m,\u001b[0m \u001b[0mtime\u001b[0m\u001b[0;34m)\u001b[0m\u001b[0;34m\u001b[0m\u001b[0;34m\u001b[0m\u001b[0m\n\u001b[0m\u001b[1;32m     30\u001b[0m     \u001b[0;32melse\u001b[0m\u001b[0;34m:\u001b[0m\u001b[0;34m\u001b[0m\u001b[0;34m\u001b[0m\u001b[0m\n\u001b[1;32m     31\u001b[0m         \u001b[0mprint\u001b[0m\u001b[0;34m(\u001b[0m\u001b[0;34m\"NOT FOUND\"\u001b[0m\u001b[0;34m)\u001b[0m\u001b[0;34m\u001b[0m\u001b[0;34m\u001b[0m\u001b[0m\n",
      "\u001b[0;32m<ipython-input-91-4f490fef5b6c>\u001b[0m in \u001b[0;36mchangetime\u001b[0;34m(exam, time)\u001b[0m\n\u001b[1;32m     41\u001b[0m \u001b[0;32mdef\u001b[0m \u001b[0mchangetime\u001b[0m\u001b[0;34m(\u001b[0m\u001b[0mexam\u001b[0m\u001b[0;34m,\u001b[0m \u001b[0mtime\u001b[0m\u001b[0;34m)\u001b[0m\u001b[0;34m:\u001b[0m\u001b[0;34m\u001b[0m\u001b[0;34m\u001b[0m\u001b[0m\n\u001b[1;32m     42\u001b[0m     \u001b[0mreserved\u001b[0m \u001b[0;34m=\u001b[0m \u001b[0mbrowser\u001b[0m\u001b[0;34m.\u001b[0m\u001b[0mfind_element\u001b[0m\u001b[0;34m(\u001b[0m\u001b[0mBy\u001b[0m\u001b[0;34m.\u001b[0m\u001b[0mCLASS_NAME\u001b[0m\u001b[0;34m,\u001b[0m \u001b[0;34m\"reservation-future\"\u001b[0m\u001b[0;34m)\u001b[0m\u001b[0;34m\u001b[0m\u001b[0;34m\u001b[0m\u001b[0m\n\u001b[0;32m---> 43\u001b[0;31m     \u001b[0;32mif\u001b[0m \u001b[0;34m(\u001b[0m\u001b[0mreserved\u001b[0m\u001b[0;34m.\u001b[0m\u001b[0mfind_element\u001b[0m\u001b[0;34m(\u001b[0m\u001b[0mexam\u001b[0m\u001b[0;34m)\u001b[0m\u001b[0;34m)\u001b[0m\u001b[0;34m:\u001b[0m\u001b[0;34m\u001b[0m\u001b[0;34m\u001b[0m\u001b[0m\n\u001b[0m\u001b[1;32m     44\u001b[0m         \u001b[0mreserved\u001b[0m\u001b[0;34m.\u001b[0m\u001b[0mfind_element_by_link_text\u001b[0m\u001b[0;34m(\u001b[0m\u001b[0;34m\"change\"\u001b[0m\u001b[0;34m)\u001b[0m\u001b[0;34m.\u001b[0m\u001b[0mclick\u001b[0m\u001b[0;34m(\u001b[0m\u001b[0;34m)\u001b[0m\u001b[0;34m\u001b[0m\u001b[0;34m\u001b[0m\u001b[0m\n\u001b[1;32m     45\u001b[0m     \u001b[0;32mreturn\u001b[0m\u001b[0;34m\u001b[0m\u001b[0;34m\u001b[0m\u001b[0m\n",
      "\u001b[0;32m~/opt/anaconda3/lib/python3.8/site-packages/selenium/webdriver/remote/webelement.py\u001b[0m in \u001b[0;36mfind_element\u001b[0;34m(self, by, value)\u001b[0m\n\u001b[1;32m    733\u001b[0m             \u001b[0mvalue\u001b[0m \u001b[0;34m=\u001b[0m \u001b[0;34m'[name=\"%s\"]'\u001b[0m \u001b[0;34m%\u001b[0m \u001b[0mvalue\u001b[0m\u001b[0;34m\u001b[0m\u001b[0;34m\u001b[0m\u001b[0m\n\u001b[1;32m    734\u001b[0m \u001b[0;34m\u001b[0m\u001b[0m\n\u001b[0;32m--> 735\u001b[0;31m         return self._execute(Command.FIND_CHILD_ELEMENT,\n\u001b[0m\u001b[1;32m    736\u001b[0m                              {\"using\": by, \"value\": value})['value']\n\u001b[1;32m    737\u001b[0m \u001b[0;34m\u001b[0m\u001b[0m\n",
      "\u001b[0;32m~/opt/anaconda3/lib/python3.8/site-packages/selenium/webdriver/remote/webelement.py\u001b[0m in \u001b[0;36m_execute\u001b[0;34m(self, command, params)\u001b[0m\n\u001b[1;32m    708\u001b[0m             \u001b[0mparams\u001b[0m \u001b[0;34m=\u001b[0m \u001b[0;34m{\u001b[0m\u001b[0;34m}\u001b[0m\u001b[0;34m\u001b[0m\u001b[0;34m\u001b[0m\u001b[0m\n\u001b[1;32m    709\u001b[0m         \u001b[0mparams\u001b[0m\u001b[0;34m[\u001b[0m\u001b[0;34m'id'\u001b[0m\u001b[0;34m]\u001b[0m \u001b[0;34m=\u001b[0m \u001b[0mself\u001b[0m\u001b[0;34m.\u001b[0m\u001b[0m_id\u001b[0m\u001b[0;34m\u001b[0m\u001b[0;34m\u001b[0m\u001b[0m\n\u001b[0;32m--> 710\u001b[0;31m         \u001b[0;32mreturn\u001b[0m \u001b[0mself\u001b[0m\u001b[0;34m.\u001b[0m\u001b[0m_parent\u001b[0m\u001b[0;34m.\u001b[0m\u001b[0mexecute\u001b[0m\u001b[0;34m(\u001b[0m\u001b[0mcommand\u001b[0m\u001b[0;34m,\u001b[0m \u001b[0mparams\u001b[0m\u001b[0;34m)\u001b[0m\u001b[0;34m\u001b[0m\u001b[0;34m\u001b[0m\u001b[0m\n\u001b[0m\u001b[1;32m    711\u001b[0m \u001b[0;34m\u001b[0m\u001b[0m\n\u001b[1;32m    712\u001b[0m     \u001b[0;32mdef\u001b[0m \u001b[0mfind_element\u001b[0m\u001b[0;34m(\u001b[0m\u001b[0mself\u001b[0m\u001b[0;34m,\u001b[0m \u001b[0mby\u001b[0m\u001b[0;34m=\u001b[0m\u001b[0mBy\u001b[0m\u001b[0;34m.\u001b[0m\u001b[0mID\u001b[0m\u001b[0;34m,\u001b[0m \u001b[0mvalue\u001b[0m\u001b[0;34m=\u001b[0m\u001b[0;32mNone\u001b[0m\u001b[0;34m)\u001b[0m\u001b[0;34m:\u001b[0m\u001b[0;34m\u001b[0m\u001b[0;34m\u001b[0m\u001b[0m\n",
      "\u001b[0;32m~/opt/anaconda3/lib/python3.8/site-packages/selenium/webdriver/remote/webdriver.py\u001b[0m in \u001b[0;36mexecute\u001b[0;34m(self, driver_command, params)\u001b[0m\n\u001b[1;32m    423\u001b[0m         \u001b[0mresponse\u001b[0m \u001b[0;34m=\u001b[0m \u001b[0mself\u001b[0m\u001b[0;34m.\u001b[0m\u001b[0mcommand_executor\u001b[0m\u001b[0;34m.\u001b[0m\u001b[0mexecute\u001b[0m\u001b[0;34m(\u001b[0m\u001b[0mdriver_command\u001b[0m\u001b[0;34m,\u001b[0m \u001b[0mparams\u001b[0m\u001b[0;34m)\u001b[0m\u001b[0;34m\u001b[0m\u001b[0;34m\u001b[0m\u001b[0m\n\u001b[1;32m    424\u001b[0m         \u001b[0;32mif\u001b[0m \u001b[0mresponse\u001b[0m\u001b[0;34m:\u001b[0m\u001b[0;34m\u001b[0m\u001b[0;34m\u001b[0m\u001b[0m\n\u001b[0;32m--> 425\u001b[0;31m             \u001b[0mself\u001b[0m\u001b[0;34m.\u001b[0m\u001b[0merror_handler\u001b[0m\u001b[0;34m.\u001b[0m\u001b[0mcheck_response\u001b[0m\u001b[0;34m(\u001b[0m\u001b[0mresponse\u001b[0m\u001b[0;34m)\u001b[0m\u001b[0;34m\u001b[0m\u001b[0;34m\u001b[0m\u001b[0m\n\u001b[0m\u001b[1;32m    426\u001b[0m             response['value'] = self._unwrap_value(\n\u001b[1;32m    427\u001b[0m                 response.get('value', None))\n",
      "\u001b[0;32m~/opt/anaconda3/lib/python3.8/site-packages/selenium/webdriver/remote/errorhandler.py\u001b[0m in \u001b[0;36mcheck_response\u001b[0;34m(self, response)\u001b[0m\n\u001b[1;32m    245\u001b[0m                 \u001b[0malert_text\u001b[0m \u001b[0;34m=\u001b[0m \u001b[0mvalue\u001b[0m\u001b[0;34m[\u001b[0m\u001b[0;34m'alert'\u001b[0m\u001b[0;34m]\u001b[0m\u001b[0;34m.\u001b[0m\u001b[0mget\u001b[0m\u001b[0;34m(\u001b[0m\u001b[0;34m'text'\u001b[0m\u001b[0;34m)\u001b[0m\u001b[0;34m\u001b[0m\u001b[0;34m\u001b[0m\u001b[0m\n\u001b[1;32m    246\u001b[0m             \u001b[0;32mraise\u001b[0m \u001b[0mexception_class\u001b[0m\u001b[0;34m(\u001b[0m\u001b[0mmessage\u001b[0m\u001b[0;34m,\u001b[0m \u001b[0mscreen\u001b[0m\u001b[0;34m,\u001b[0m \u001b[0mstacktrace\u001b[0m\u001b[0;34m,\u001b[0m \u001b[0malert_text\u001b[0m\u001b[0;34m)\u001b[0m  \u001b[0;31m# type: ignore[call-arg]  # mypy is not smart enough here\u001b[0m\u001b[0;34m\u001b[0m\u001b[0;34m\u001b[0m\u001b[0m\n\u001b[0;32m--> 247\u001b[0;31m         \u001b[0;32mraise\u001b[0m \u001b[0mexception_class\u001b[0m\u001b[0;34m(\u001b[0m\u001b[0mmessage\u001b[0m\u001b[0;34m,\u001b[0m \u001b[0mscreen\u001b[0m\u001b[0;34m,\u001b[0m \u001b[0mstacktrace\u001b[0m\u001b[0;34m)\u001b[0m\u001b[0;34m\u001b[0m\u001b[0;34m\u001b[0m\u001b[0m\n\u001b[0m\u001b[1;32m    248\u001b[0m \u001b[0;34m\u001b[0m\u001b[0m\n\u001b[1;32m    249\u001b[0m     \u001b[0;32mdef\u001b[0m \u001b[0m_value_or_default\u001b[0m\u001b[0;34m(\u001b[0m\u001b[0mself\u001b[0m\u001b[0;34m,\u001b[0m \u001b[0mobj\u001b[0m\u001b[0;34m:\u001b[0m \u001b[0mMapping\u001b[0m\u001b[0;34m[\u001b[0m\u001b[0m_KT\u001b[0m\u001b[0;34m,\u001b[0m \u001b[0m_VT\u001b[0m\u001b[0;34m]\u001b[0m\u001b[0;34m,\u001b[0m \u001b[0mkey\u001b[0m\u001b[0;34m:\u001b[0m \u001b[0m_KT\u001b[0m\u001b[0;34m,\u001b[0m \u001b[0mdefault\u001b[0m\u001b[0;34m:\u001b[0m \u001b[0m_VT\u001b[0m\u001b[0;34m)\u001b[0m \u001b[0;34m->\u001b[0m \u001b[0m_VT\u001b[0m\u001b[0;34m:\u001b[0m\u001b[0;34m\u001b[0m\u001b[0;34m\u001b[0m\u001b[0m\n",
      "\u001b[0;31mInvalidArgumentException\u001b[0m: Message: invalid argument: invalid locator\n  (Session info: chrome=99.0.4844.83)\nStacktrace:\n0   chromedriver                        0x00000001048a3370 chromedriver + 4420464\n1   chromedriver                        0x000000010483a940 chromedriver + 3991872\n2   chromedriver                        0x000000010449a548 chromedriver + 189768\n3   chromedriver                        0x00000001044c8a1c chromedriver + 379420\n4   chromedriver                        0x00000001044bf3bc chromedriver + 340924\n5   chromedriver                        0x00000001044f1bfc chromedriver + 547836\n6   chromedriver                        0x00000001044be248 chromedriver + 336456\n7   chromedriver                        0x0000000104867548 chromedriver + 4175176\n8   chromedriver                        0x000000010487d95c chromedriver + 4266332\n9   chromedriver                        0x0000000104882660 chromedriver + 4286048\n10  chromedriver                        0x000000010487e124 chromedriver + 4268324\n11  chromedriver                        0x000000010485d53c chromedriver + 4134204\n12  chromedriver                        0x0000000104895eb0 chromedriver + 4366000\n13  chromedriver                        0x0000000104896014 chromedriver + 4366356\n14  chromedriver                        0x00000001048a9a6c chromedriver + 4446828\n15  libsystem_pthread.dylib             0x00000001c383d4ec _pthread_start + 148\n16  libsystem_pthread.dylib             0x00000001c38382d0 thread_start + 8\n"
     ]
    }
   ],
   "source": [
    "# def main():\n",
    "\n",
    "browser = webdriver.Chrome()\n",
    "#b.get('https://www.prairielearn.org/pl')\n",
    "login(browser)\n",
    "\n",
    "time.sleep(5)\n",
    "b.quit()\n",
    "\n",
    "# if __name__ == '__main__':\n",
    "#     login()"
   ]
  },
  {
   "cell_type": "code",
   "execution_count": null,
   "id": "327677f8",
   "metadata": {},
   "outputs": [],
   "source": []
  }
 ],
 "metadata": {
  "kernelspec": {
   "display_name": "Python 3",
   "language": "python",
   "name": "python3"
  }
 },
 "nbformat": 4,
 "nbformat_minor": 5
}
